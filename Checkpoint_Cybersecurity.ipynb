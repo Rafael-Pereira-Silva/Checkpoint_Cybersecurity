{
  "nbformat": 4,
  "nbformat_minor": 0,
  "metadata": {
    "colab": {
      "name": "Checkpoint_Cybersecurity.ipynb",
      "provenance": [],
      "authorship_tag": "ABX9TyOwz6/r4TRdk3wQXL4/+DfQ",
      "include_colab_link": true
    },
    "kernelspec": {
      "name": "python3",
      "display_name": "Python 3"
    },
    "language_info": {
      "name": "python"
    }
  },
  "cells": [
    {
      "cell_type": "markdown",
      "metadata": {
        "id": "view-in-github",
        "colab_type": "text"
      },
      "source": [
        "<a href=\"https://colab.research.google.com/github/Rafael-Pereira-Silva/Checkpoint_Cybersecurity/blob/main/Checkpoint_Cybersecurity.ipynb\" target=\"_parent\"><img src=\"https://colab.research.google.com/assets/colab-badge.svg\" alt=\"Open In Colab\"/></a>"
      ]
    },
    {
      "cell_type": "code",
      "source": [
        "!pip install -q pyngrok\n",
        "!pip install -q streamlit\n",
        "!pip install -q streamlit_ace\n",
        "!pip install fuzzywuzzy[speedup]\n",
        "!streamlit run app.py & > / dev / null &"
      ],
      "metadata": {
        "id": "uTcO6jMUO6iC"
      },
      "execution_count": null,
      "outputs": []
    },
    {
      "cell_type": "code",
      "source": [
        "%%writefile app.py\n",
        "import re\n",
        "import streamlit as st\n",
        "import requests as req\n",
        "from fuzzywuzzy import fuzz\n",
        "from fuzzywuzzy import process\n",
        "from pyngrok import ngrok\n",
        "\n",
        "def regexlist(lista):\n",
        "\n",
        "    a='(?i)'\n",
        "    for i in lista:\n",
        "        a += f\"({i})|\"\n",
        "    a = a[:-1]\n",
        "    return a\n",
        "\n",
        "\n",
        "def api_nome():\n",
        "    lista_nome = []\n",
        "    lista_interpol = req.get(\"https://cspinheiro.github.io/interpol.json\")\n",
        "    interpol = lista_interpol.json()['interpol']\n",
        "    for i in interpol:\n",
        "        lista_nome.append(i['interpol'])\n",
        "    return lista_nome\n",
        "\n",
        "def api_passaport():\n",
        "    lista_passaporte = []\n",
        "    lista_bel = req.get(\"https://rafael-pereira-silva.github.io/bel.json\")\n",
        "    bel = lista_bel.json()['bel']\n",
        "    for i in bel:\n",
        "        lista_passaporte.append(str(i['bel']))\n",
        "    return lista_passaporte\n",
        "\n",
        "\n",
        "def getmatch_nome(input,lista):\n",
        "    search = process.extractOne(input,lista,scorer=fuzz.token_sort_ratio)\n",
        "    if search[1] > 75:\n",
        "      return 1\n",
        "    return 0\n",
        "        \n",
        "\n",
        "def valid_nome(input_nome,lista_nome):\n",
        "  if len(input_nome) > 3 and len(re.split('\\s',input_nome)) >= 2:\n",
        "      nome = getmatch_nome(input_nome,lista_nome)\n",
        "      if nome == 1:\n",
        "        st.error('Nome suspeito, investigue o passageiro')\n",
        "      if nome == 0:\n",
        "        st.success('Nome verificado, o passageiro não é um suspeito')\n",
        "  else:\n",
        "      st.warning('Preencha o Nome novamente')\n",
        "\n",
        "def getmatch_passa(input,lista):\n",
        "    match = re.search(lista,input)\n",
        "    if match:\n",
        "        return 1\n",
        "    else:\n",
        "        return 0\n",
        "\n",
        "def main():\n",
        "    html_temp = \"\"\" <div style =\"background-color:blue;padding:13px\">\n",
        "                      <h1 style = \"color:white;text-align:center\">Federale politie</h1>\n",
        "                    </div>\n",
        "                \"\"\"\n",
        "\n",
        "    st.markdown(html_temp, unsafe_allow_html = True)\n",
        "    lista_passaporte = api_passaport()\n",
        "    lista_nome = api_nome()\n",
        "    lista_passaporte= regexlist(lista_passaporte)\n",
        "    input_passaporte = st.text_input('Informe o número do Passaporte: ')\n",
        "    input_nome = st.text_input('Informe o Nome Completo: ')\n",
        "    input_passaporte = re.sub('\\D', '', input_passaporte)\n",
        "\n",
        "    if st.button(\"Verificar\"):\n",
        "      clear = 0\n",
        "      clear = valida_verificado(input_passaporte,lista_passaporte)\n",
        "      if clear == 1:\n",
        "        valid_nome(input_nome,lista_nome)\n",
        "\n",
        "def valida_verificado(input_passaporte,lista_passaporte):\n",
        "      if len(input_passaporte) == 9:\n",
        "        verificado = getmatch_passa(input_passaporte,lista_passaporte)\n",
        "        if verificado == 1:\n",
        "            st.error('Este passaporte é proibido, prenda o suspeito')\n",
        "            return 0\n",
        "        else:\n",
        "          return 1\n",
        "      else:\n",
        "        st.warning('Preencha o passaporte novamente')\n",
        "\n",
        "if __name__ == '__main__':\n",
        "    main()"
      ],
      "metadata": {
        "colab": {
          "base_uri": "https://localhost:8080/"
        },
        "id": "Ua_n2YAgNvL8",
        "outputId": "a5f7ff83-8ba5-4246-b5f2-523d2f3a3a91"
      },
      "execution_count": 1,
      "outputs": [
        {
          "output_type": "stream",
          "name": "stdout",
          "text": [
            "Writing app.py\n"
          ]
        }
      ]
    },
    {
      "cell_type": "code",
      "source": [
        "!streamlit run app.py & npx localtunnel --port 8501"
      ],
      "metadata": {
        "colab": {
          "base_uri": "https://localhost:8080/"
        },
        "id": "j86H-W7IIfm2",
        "outputId": "abd75a16-4ad5-4af8-ef93-c3b0aa7322d0"
      },
      "execution_count": null,
      "outputs": [
        {
          "output_type": "stream",
          "name": "stdout",
          "text": [
            "/bin/bash: streamlit: command not found\n",
            "\u001b[K\u001b[?25hnpx: installed 22 in 1.777s\n",
            "your url is: https://happy-masks-sniff-34-83-75-87.loca.lt\n"
          ]
        }
      ]
    }
  ]
}